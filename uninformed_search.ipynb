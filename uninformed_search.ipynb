{
 "metadata": {
  "kernelspec": {
   "display_name": "Python 3 (ipykernel)",
   "language": "python",
   "name": "python3"
  },
  "language_info": {
   "codemirror_mode": {
    "name": "ipython",
    "version": 3
   },
   "file_extension": ".py",
   "mimetype": "text/x-python",
   "name": "python",
   "nbconvert_exporter": "python",
   "pygments_lexer": "ipython3",
   "version": "3.11.13"
  },
  "widgets": {
   "application/vnd.jupyter.widget-state+json": {
    "version_major": 2,
    "version_minor": 0,
    "state": {
     "a21efe36c7274380a0bb9c80223c063b": {
      "model_name": "CanvasManagerModel",
      "model_module": "ipycanvas",
      "model_module_version": "^0.13",
      "state": {
       "_model_module_version": "^0.13",
       "_view_module": null,
       "_view_module_version": ""
      }
     },
     "0163cf98f0dc4d199911fafc9ff79b1e": {
      "model_name": "LayoutModel",
      "model_module": "@jupyter-widgets/base",
      "model_module_version": "2.0.0",
      "state": {}
     },
     "d84bec4a929749f4ac56c2d7b8992075": {
      "model_name": "LayoutModel",
      "model_module": "@jupyter-widgets/base",
      "model_module_version": "2.0.0",
      "state": {}
     },
     "d19605b800a8422bb73521ca3765113f": {
      "model_name": "LayoutModel",
      "model_module": "@jupyter-widgets/base",
      "model_module_version": "2.0.0",
      "state": {}
     },
     "d9c03627dc33479cb515191bc174bd11": {
      "model_name": "LayoutModel",
      "model_module": "@jupyter-widgets/base",
      "model_module_version": "2.0.0",
      "state": {
       "height": "auto",
       "width": "100%"
      }
     },
     "7a62af9c23594278a1abfd6fc21e00f2": {
      "model_name": "LayoutModel",
      "model_module": "@jupyter-widgets/base",
      "model_module_version": "2.0.0",
      "state": {}
     },
     "d3cd88e84667429e98e3bbd3ca38077f": {
      "model_name": "LayoutModel",
      "model_module": "@jupyter-widgets/base",
      "model_module_version": "2.0.0",
      "state": {}
     },
     "52f1b914112d4c20b59db71feffdb461": {
      "model_name": "LayoutModel",
      "model_module": "@jupyter-widgets/base",
      "model_module_version": "2.0.0",
      "state": {}
     },
     "8dfa488c566244ae94d9763f85e5a192": {
      "model_name": "LayoutModel",
      "model_module": "@jupyter-widgets/base",
      "model_module_version": "2.0.0",
      "state": {}
     },
     "70cc1c1411c04828b6fb5b623c36b148": {
      "model_name": "LayoutModel",
      "model_module": "@jupyter-widgets/base",
      "model_module_version": "2.0.0",
      "state": {
       "height": "auto",
       "width": "auto"
      }
     },
     "d20448099b78418cbc2d994015106dea": {
      "model_name": "LayoutModel",
      "model_module": "@jupyter-widgets/base",
      "model_module_version": "2.0.0",
      "state": {}
     },
     "7dbd297dab584481abfe7e04b33bb11f": {
      "model_name": "LayoutModel",
      "model_module": "@jupyter-widgets/base",
      "model_module_version": "2.0.0",
      "state": {}
     },
     "91d39b8fd57c4fcba01ccffe74e1d715": {
      "model_name": "LayoutModel",
      "model_module": "@jupyter-widgets/base",
      "model_module_version": "2.0.0",
      "state": {}
     },
     "5e145413143c411eaf592d63c14942bd": {
      "model_name": "LayoutModel",
      "model_module": "@jupyter-widgets/base",
      "model_module_version": "2.0.0",
      "state": {}
     },
     "c7dbfb15fdee4a97895455daa1136233": {
      "model_name": "LayoutModel",
      "model_module": "@jupyter-widgets/base",
      "model_module_version": "2.0.0",
      "state": {
       "height": "80",
       "width": "80"
      }
     },
     "5d10ae56102a4ac3b4a8f1d087e7d372": {
      "model_name": "LayoutModel",
      "model_module": "@jupyter-widgets/base",
      "model_module_version": "2.0.0",
      "state": {}
     },
     "4fd5573efc264e2ca8f201c9610ca20a": {
      "model_name": "LayoutModel",
      "model_module": "@jupyter-widgets/base",
      "model_module_version": "2.0.0",
      "state": {}
     },
     "cf5f7c5a370f4dcf85f7f120a58cf382": {
      "model_name": "LayoutModel",
      "model_module": "@jupyter-widgets/base",
      "model_module_version": "2.0.0",
      "state": {}
     },
     "1a0204ae99e84e258af441e4bafe8524": {
      "model_name": "LayoutModel",
      "model_module": "@jupyter-widgets/base",
      "model_module_version": "2.0.0",
      "state": {}
     },
     "c245fe6d940947acae652cc0af659aaf": {
      "model_name": "LayoutModel",
      "model_module": "@jupyter-widgets/base",
      "model_module_version": "2.0.0",
      "state": {
       "height": "80%",
       "width": "80%"
      }
     },
     "dc5dd79f83ff458aae056bdee58c5b36": {
      "model_name": "LayoutModel",
      "model_module": "@jupyter-widgets/base",
      "model_module_version": "2.0.0",
      "state": {}
     },
     "7db6a8ff29b94b1b9aaa42241154bd48": {
      "model_name": "LayoutModel",
      "model_module": "@jupyter-widgets/base",
      "model_module_version": "2.0.0",
      "state": {}
     },
     "dc52fcdc118d4df4b2b9cef22a5d0dde": {
      "model_name": "LayoutModel",
      "model_module": "@jupyter-widgets/base",
      "model_module_version": "2.0.0",
      "state": {}
     },
     "9720a9a8ca4b4bfab6b1b35c75f0a13b": {
      "model_name": "LayoutModel",
      "model_module": "@jupyter-widgets/base",
      "model_module_version": "2.0.0",
      "state": {}
     },
     "edc91671568446038ee7230363db70d3": {
      "model_name": "LayoutModel",
      "model_module": "@jupyter-widgets/base",
      "model_module_version": "2.0.0",
      "state": {
       "height": "80%",
       "width": "80%"
      }
     },
     "2cb662f3198342e5bcdfe57da9472db8": {
      "model_name": "LayoutModel",
      "model_module": "@jupyter-widgets/base",
      "model_module_version": "2.0.0",
      "state": {}
     },
     "00e4887cfda945dc8523319c0a732b34": {
      "model_name": "LayoutModel",
      "model_module": "@jupyter-widgets/base",
      "model_module_version": "2.0.0",
      "state": {}
     },
     "d0d08eec7b4441cbbd5770db3488ea5a": {
      "model_name": "LayoutModel",
      "model_module": "@jupyter-widgets/base",
      "model_module_version": "2.0.0",
      "state": {}
     },
     "d9e50d8c169146d5bee17d4b73e32d08": {
      "model_name": "LayoutModel",
      "model_module": "@jupyter-widgets/base",
      "model_module_version": "2.0.0",
      "state": {}
     },
     "421101b2a0eb43a5a5acce47eaf3dda2": {
      "model_name": "LayoutModel",
      "model_module": "@jupyter-widgets/base",
      "model_module_version": "2.0.0",
      "state": {
       "height": "100%",
       "width": "100%"
      }
     },
     "0e4b738157ac4f73b37e89fcea3d325d": {
      "model_name": "LayoutModel",
      "model_module": "@jupyter-widgets/base",
      "model_module_version": "2.0.0",
      "state": {}
     },
     "9bf82dc7920143508849a1c580ff24a0": {
      "model_name": "CanvasModel",
      "model_module": "ipycanvas",
      "model_module_version": "^0.13",
      "state": {
       "_model_module_version": "^0.13",
       "_view_module_version": "^0.13",
       "width": 2600,
       "height": 1300,
       "_canvas_manager": "IPY_MODEL_a21efe36c7274380a0bb9c80223c063b",
       "layout": "IPY_MODEL_0163cf98f0dc4d199911fafc9ff79b1e"
      }
     },
     "fa724281249448e2a105276096511fde": {
      "model_name": "CanvasModel",
      "model_module": "ipycanvas",
      "model_module_version": "^0.13",
      "state": {
       "_model_module_version": "^0.13",
       "_view_module_version": "^0.13",
       "width": 2600,
       "height": 1300,
       "_canvas_manager": "IPY_MODEL_a21efe36c7274380a0bb9c80223c063b",
       "layout": "IPY_MODEL_d84bec4a929749f4ac56c2d7b8992075"
      }
     },
     "5943f87f7b7b4c608f6377f12c9ec3b5": {
      "model_name": "CanvasModel",
      "model_module": "ipycanvas",
      "model_module_version": "^0.13",
      "state": {
       "_model_module_version": "^0.13",
       "_view_module_version": "^0.13",
       "width": 2600,
       "height": 1300,
       "_canvas_manager": "IPY_MODEL_a21efe36c7274380a0bb9c80223c063b",
       "layout": "IPY_MODEL_d19605b800a8422bb73521ca3765113f"
      }
     },
     "80a8e8dc131e405889354466b98dd3a7": {
      "model_name": "ImageModel",
      "model_module": "@jupyter-widgets/controls",
      "model_module_version": "2.0.0",
      "state": {
       "format": "gif",
       "layout": "IPY_MODEL_7a62af9c23594278a1abfd6fc21e00f2"
      },
      "buffers": [
       {
        "data": "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",
        "path": [
         "value"
        ],
        "encoding": "base64"
       }
      ]
     },
     "f54696b81a334a779bad41b4f5260bf2": {
      "model_name": "CanvasModel",
      "model_module": "ipycanvas",
      "model_module_version": "^0.13",
      "state": {
       "_model_module_version": "^0.13",
       "_view_module_version": "^0.13",
       "width": 2600,
       "height": 1300,
       "_canvas_manager": "IPY_MODEL_a21efe36c7274380a0bb9c80223c063b",
       "layout": "IPY_MODEL_d3cd88e84667429e98e3bbd3ca38077f"
      }
     },
     "dca7e47ef5974efdb19290610b97d935": {
      "model_name": "CanvasModel",
      "model_module": "ipycanvas",
      "model_module_version": "^0.13",
      "state": {
       "_model_module_version": "^0.13",
       "_view_module_version": "^0.13",
       "width": 2600,
       "height": 1300,
       "_canvas_manager": "IPY_MODEL_a21efe36c7274380a0bb9c80223c063b",
       "layout": "IPY_MODEL_52f1b914112d4c20b59db71feffdb461"
      }
     },
     "b087bf90ff4d45c4867cf4aab5a84d75": {
      "model_name": "CanvasModel",
      "model_module": "ipycanvas",
      "model_module_version": "^0.13",
      "state": {
       "_model_module_version": "^0.13",
       "_view_module_version": "^0.13",
       "width": 2600,
       "height": 1300,
       "_canvas_manager": "IPY_MODEL_a21efe36c7274380a0bb9c80223c063b",
       "layout": "IPY_MODEL_8dfa488c566244ae94d9763f85e5a192"
      }
     },
     "c43ce3aa8fe2455cb9df84dec6e42711": {
      "model_name": "ImageModel",
      "model_module": "@jupyter-widgets/controls",
      "model_module_version": "2.0.0",
      "state": {
       "format": "gif",
       "layout": "IPY_MODEL_d20448099b78418cbc2d994015106dea"
      },
      "buffers": [
       {
        "data": "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",
        "path": [
         "value"
        ],
        "encoding": "base64"
       }
      ]
     },
     "d0d07b6abbbb4abd95f99ca5ce05cac7": {
      "model_name": "CanvasModel",
      "model_module": "ipycanvas",
      "model_module_version": "^0.13",
      "state": {
       "_model_module_version": "^0.13",
       "_view_module_version": "^0.13",
       "width": 2600,
       "height": 1300,
       "_canvas_manager": "IPY_MODEL_a21efe36c7274380a0bb9c80223c063b",
       "layout": "IPY_MODEL_7dbd297dab584481abfe7e04b33bb11f"
      }
     },
     "c87692a0526a43d89231faee3f4d9601": {
      "model_name": "CanvasModel",
      "model_module": "ipycanvas",
      "model_module_version": "^0.13",
      "state": {
       "_model_module_version": "^0.13",
       "_view_module_version": "^0.13",
       "width": 2600,
       "height": 1300,
       "_canvas_manager": "IPY_MODEL_a21efe36c7274380a0bb9c80223c063b",
       "layout": "IPY_MODEL_91d39b8fd57c4fcba01ccffe74e1d715"
      }
     },
     "b4b5283debd44594bda3ae3e3acd18a6": {
      "model_name": "CanvasModel",
      "model_module": "ipycanvas",
      "model_module_version": "^0.13",
      "state": {
       "_model_module_version": "^0.13",
       "_view_module_version": "^0.13",
       "width": 2600,
       "height": 1300,
       "_canvas_manager": "IPY_MODEL_a21efe36c7274380a0bb9c80223c063b",
       "layout": "IPY_MODEL_5e145413143c411eaf592d63c14942bd"
      }
     },
     "9a08ab8ce12443c4be39297dc2221d91": {
      "model_name": "ImageModel",
      "model_module": "@jupyter-widgets/controls",
      "model_module_version": "2.0.0",
      "state": {
       "format": "gif",
       "layout": "IPY_MODEL_5d10ae56102a4ac3b4a8f1d087e7d372"
      },
      "buffers": [
       {
        "data": "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",
        "path": [
         "value"
        ],
        "encoding": "base64"
       }
      ]
     },
     "475f48ad4dc44acfbf524d480bf5d6a8": {
      "model_name": "CanvasModel",
      "model_module": "ipycanvas",
      "model_module_version": "^0.13",
      "state": {
       "_model_module_version": "^0.13",
       "_view_module_version": "^0.13",
       "width": 2600,
       "height": 1300,
       "_canvas_manager": "IPY_MODEL_a21efe36c7274380a0bb9c80223c063b",
       "layout": "IPY_MODEL_4fd5573efc264e2ca8f201c9610ca20a"
      }
     },
     "50a2e52b778f488eab8d200286b41e5a": {
      "model_name": "CanvasModel",
      "model_module": "ipycanvas",
      "model_module_version": "^0.13",
      "state": {
       "_model_module_version": "^0.13",
       "_view_module_version": "^0.13",
       "width": 2600,
       "height": 1300,
       "_canvas_manager": "IPY_MODEL_a21efe36c7274380a0bb9c80223c063b",
       "layout": "IPY_MODEL_cf5f7c5a370f4dcf85f7f120a58cf382"
      }
     },
     "fbfc320916af4bcd8a54025071b585bb": {
      "model_name": "CanvasModel",
      "model_module": "ipycanvas",
      "model_module_version": "^0.13",
      "state": {
       "_model_module_version": "^0.13",
       "_view_module_version": "^0.13",
       "width": 2600,
       "height": 1300,
       "_canvas_manager": "IPY_MODEL_a21efe36c7274380a0bb9c80223c063b",
       "layout": "IPY_MODEL_1a0204ae99e84e258af441e4bafe8524"
      }
     },
     "f51ee17a0742437bb22d472e6b765f07": {
      "model_name": "ImageModel",
      "model_module": "@jupyter-widgets/controls",
      "model_module_version": "2.0.0",
      "state": {
       "format": "gif",
       "layout": "IPY_MODEL_dc5dd79f83ff458aae056bdee58c5b36"
      },
      "buffers": [
       {
        "data": "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",
        "path": [
         "value"
        ],
        "encoding": "base64"
       }
      ]
     },
     "bb9553ef8978450f95fcc954f139375f": {
      "model_name": "CanvasModel",
      "model_module": "ipycanvas",
      "model_module_version": "^0.13",
      "state": {
       "_model_module_version": "^0.13",
       "_view_module_version": "^0.13",
       "width": 2600,
       "height": 1300,
       "_canvas_manager": "IPY_MODEL_a21efe36c7274380a0bb9c80223c063b",
       "layout": "IPY_MODEL_7db6a8ff29b94b1b9aaa42241154bd48"
      }
     },
     "cd4c84e2d77c43c89aa1681b202f53a3": {
      "model_name": "CanvasModel",
      "model_module": "ipycanvas",
      "model_module_version": "^0.13",
      "state": {
       "_model_module_version": "^0.13",
       "_view_module_version": "^0.13",
       "width": 2600,
       "height": 1300,
       "_canvas_manager": "IPY_MODEL_a21efe36c7274380a0bb9c80223c063b",
       "layout": "IPY_MODEL_dc52fcdc118d4df4b2b9cef22a5d0dde"
      }
     },
     "34b25dd1cf4f4ea7bb073634f53f40ef": {
      "model_name": "CanvasModel",
      "model_module": "ipycanvas",
      "model_module_version": "^0.13",
      "state": {
       "_model_module_version": "^0.13",
       "_view_module_version": "^0.13",
       "width": 2600,
       "height": 1300,
       "_canvas_manager": "IPY_MODEL_a21efe36c7274380a0bb9c80223c063b",
       "layout": "IPY_MODEL_9720a9a8ca4b4bfab6b1b35c75f0a13b"
      }
     },
     "7519f2136b9d405f9d768c77b0221db4": {
      "model_name": "ImageModel",
      "model_module": "@jupyter-widgets/controls",
      "model_module_version": "2.0.0",
      "state": {
       "format": "gif",
       "layout": "IPY_MODEL_2cb662f3198342e5bcdfe57da9472db8"
      },
      "buffers": [
       {
        "data": "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",
        "path": [
         "value"
        ],
        "encoding": "base64"
       }
      ]
     },
     "b9c5c1568ef54e18a3e18d81e64772d4": {
      "model_name": "CanvasModel",
      "model_module": "ipycanvas",
      "model_module_version": "^0.13",
      "state": {
       "_model_module_version": "^0.13",
       "_view_module_version": "^0.13",
       "width": 2600,
       "height": 1300,
       "_canvas_manager": "IPY_MODEL_a21efe36c7274380a0bb9c80223c063b",
       "layout": "IPY_MODEL_00e4887cfda945dc8523319c0a732b34"
      }
     },
     "db756109ff2847f2ab158b6c9a7e47d3": {
      "model_name": "CanvasModel",
      "model_module": "ipycanvas",
      "model_module_version": "^0.13",
      "state": {
       "_model_module_version": "^0.13",
       "_view_module_version": "^0.13",
       "width": 2600,
       "height": 1300,
       "_canvas_manager": "IPY_MODEL_a21efe36c7274380a0bb9c80223c063b",
       "layout": "IPY_MODEL_d0d08eec7b4441cbbd5770db3488ea5a"
      }
     },
     "a7e418b380184946a2257f3cd50872d8": {
      "model_name": "CanvasModel",
      "model_module": "ipycanvas",
      "model_module_version": "^0.13",
      "state": {
       "_model_module_version": "^0.13",
       "_view_module_version": "^0.13",
       "width": 2600,
       "height": 1300,
       "_canvas_manager": "IPY_MODEL_a21efe36c7274380a0bb9c80223c063b",
       "layout": "IPY_MODEL_d9e50d8c169146d5bee17d4b73e32d08"
      }
     },
     "c16a7d7b5415404884534f0ac64cfd36": {
      "model_name": "ImageModel",
      "model_module": "@jupyter-widgets/controls",
      "model_module_version": "2.0.0",
      "state": {
       "format": "gif",
       "layout": "IPY_MODEL_0e4b738157ac4f73b37e89fcea3d325d"
      },
      "buffers": [
       {
        "data": "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",
        "path": [
         "value"
        ],
        "encoding": "base64"
       }
      ]
     },
     "a24307b0ec374e24bf7d40275d49fb80": {
      "model_name": "MultiCanvasModel",
      "model_module": "ipycanvas",
      "model_module_version": "^0.13",
      "state": {
       "_model_module_version": "^0.13",
       "_view_module_version": "^0.13",
       "_canvases": [
        "IPY_MODEL_9bf82dc7920143508849a1c580ff24a0",
        "IPY_MODEL_fa724281249448e2a105276096511fde",
        "IPY_MODEL_5943f87f7b7b4c608f6377f12c9ec3b5"
       ],
       "width": 2600,
       "height": 1300,
       "_canvas_manager": "IPY_MODEL_a21efe36c7274380a0bb9c80223c063b",
       "layout": "IPY_MODEL_d9c03627dc33479cb515191bc174bd11"
      }
     },
     "195c8f16aa9b4b399be6727638a0030a": {
      "model_name": "MultiCanvasModel",
      "model_module": "ipycanvas",
      "model_module_version": "^0.13",
      "state": {
       "_model_module_version": "^0.13",
       "_view_module_version": "^0.13",
       "_canvases": [
        "IPY_MODEL_f54696b81a334a779bad41b4f5260bf2",
        "IPY_MODEL_dca7e47ef5974efdb19290610b97d935",
        "IPY_MODEL_b087bf90ff4d45c4867cf4aab5a84d75"
       ],
       "width": 2600,
       "height": 1300,
       "_canvas_manager": "IPY_MODEL_a21efe36c7274380a0bb9c80223c063b",
       "layout": "IPY_MODEL_70cc1c1411c04828b6fb5b623c36b148"
      }
     },
     "706d02b375314ca5b4ff182741d40f54": {
      "model_name": "MultiCanvasModel",
      "model_module": "ipycanvas",
      "model_module_version": "^0.13",
      "state": {
       "_model_module_version": "^0.13",
       "_view_module_version": "^0.13",
       "_canvases": [
        "IPY_MODEL_d0d07b6abbbb4abd95f99ca5ce05cac7",
        "IPY_MODEL_c87692a0526a43d89231faee3f4d9601",
        "IPY_MODEL_b4b5283debd44594bda3ae3e3acd18a6"
       ],
       "width": 2600,
       "height": 1300,
       "_canvas_manager": "IPY_MODEL_a21efe36c7274380a0bb9c80223c063b",
       "layout": "IPY_MODEL_c7dbfb15fdee4a97895455daa1136233"
      }
     },
     "8bf8649a33074cf49242ad6f6dd5fe5c": {
      "model_name": "MultiCanvasModel",
      "model_module": "ipycanvas",
      "model_module_version": "^0.13",
      "state": {
       "_model_module_version": "^0.13",
       "_view_module_version": "^0.13",
       "_canvases": [
        "IPY_MODEL_475f48ad4dc44acfbf524d480bf5d6a8",
        "IPY_MODEL_50a2e52b778f488eab8d200286b41e5a",
        "IPY_MODEL_fbfc320916af4bcd8a54025071b585bb"
       ],
       "width": 2600,
       "height": 1300,
       "_canvas_manager": "IPY_MODEL_a21efe36c7274380a0bb9c80223c063b",
       "layout": "IPY_MODEL_c245fe6d940947acae652cc0af659aaf"
      }
     },
     "043bd3d841564cf58880a71e9327f43d": {
      "model_name": "MultiCanvasModel",
      "model_module": "ipycanvas",
      "model_module_version": "^0.13",
      "state": {
       "_model_module_version": "^0.13",
       "_view_module_version": "^0.13",
       "_canvases": [
        "IPY_MODEL_bb9553ef8978450f95fcc954f139375f",
        "IPY_MODEL_cd4c84e2d77c43c89aa1681b202f53a3",
        "IPY_MODEL_34b25dd1cf4f4ea7bb073634f53f40ef"
       ],
       "width": 2600,
       "height": 1300,
       "_canvas_manager": "IPY_MODEL_a21efe36c7274380a0bb9c80223c063b",
       "layout": "IPY_MODEL_edc91671568446038ee7230363db70d3"
      }
     },
     "7222bd2290c043df839572cc6332bdd3": {
      "model_name": "MultiCanvasModel",
      "model_module": "ipycanvas",
      "model_module_version": "^0.13",
      "state": {
       "_model_module_version": "^0.13",
       "_view_module_version": "^0.13",
       "_canvases": [
        "IPY_MODEL_b9c5c1568ef54e18a3e18d81e64772d4",
        "IPY_MODEL_db756109ff2847f2ab158b6c9a7e47d3",
        "IPY_MODEL_a7e418b380184946a2257f3cd50872d8"
       ],
       "width": 2600,
       "height": 1300,
       "_canvas_manager": "IPY_MODEL_a21efe36c7274380a0bb9c80223c063b",
       "layout": "IPY_MODEL_421101b2a0eb43a5a5acce47eaf3dda2"
      }
     },
     "9049ad5a070e4185aa9ead69d779b112": {
      "model_name": "CanvasManagerModel",
      "model_module": "ipycanvas",
      "model_module_version": "2.0.0",
      "state": {
       "_model_module": "ipycanvas",
       "_model_name": "CanvasManagerModel",
       "_view_name": "ErrorWidgetView",
       "error": {},
       "msg": "Failed to load model class 'CanvasManagerModel' from module 'ipycanvas'"
      }
     },
     "undefined": {
      "model_name": "CanvasModel",
      "model_module": "ipycanvas",
      "model_module_version": "2.0.0",
      "state": {
       "_view_name": "ErrorWidgetView",
       "error": {},
       "msg": "Failed to load model class 'CanvasModel' from module 'ipycanvas'"
      }
     }
    }
   }
  }
 },
 "nbformat_minor": 5,
 "nbformat": 4,
 "cells": [
  {
   "id": "a6a4e9cc",
   "cell_type": "markdown",
   "source": [
    "# Designing an Eco-friendly Intelligent Agent\n",
    "Sammy the Spartan is an eco-friendly intelligent agent powered by carrots. \n",
    "\n",
    "In our upcoming assignments we'll guide  Sammy in his quests to collect medals in a maze.  Sammy can only move North, South, West or East.  He is unable to move diagonally.  \n",
    "Sammy's carrot consumption is determined by his moves' directions.  For example, Sammy will consume more carrots moving backwards (East) than forward (West).  Sammy will also consume more carrots moving North than South. The exact number of carrots consumed for each direction is specified in the _cost_ dictionary in the Problem class defined in the [spartanquest](./spartanquest.ipynb) notebook.\n",
    "\n",
    "The various positions in the maze are represented as a tuple of x and y coordinates. The top left position is (0, 0). The x coordinate increases as we move right in the grid and the y coordinate increases as we move down in the grid - as shown below.\n",
    "![image.png](attachment:image.png)"
   ],
   "metadata": {},
   "attachments": {
    "image.png": {
     "image/png": "[encoded data removed]"
    }
   }
  },
  {
   "id": "3f549c55",
   "cell_type": "markdown",
   "source": [
    "# Homework 1:  Uninformed Search\n",
    "Your task this week is to help Sammy the Spartan on his quest by implementing some uninformed search algorithms.\n",
    "\n",
    "The quest search problem has been formulated for you in the [spartanquest](./spartanquest.ipynb) notebook.\n",
    "The data structures you need to use are defined for you in the [data_structures](./data_structures.ipynb) notebook.\n",
    "\n",
    "In this notebook (uninformed_search), you'll implement two search algorithms.  This is the only notebook you need to submit when you complete your assignment.\n",
    "\n",
    "Let's first import all we need before we get started.  Make sure you run the code cell below everytime you start working on this notebook.\n",
    "\n"
   ],
   "metadata": {}
  },
  {
   "id": "44d024ce",
   "cell_type": "code",
   "source": [
    "%run spartanquest.ipynb\n",
    "from data_structures import *"
   ],
   "metadata": {
    "trusted": true
   },
   "outputs": [],
   "execution_count": null
  },
  {
   "id": "2ec57983",
   "cell_type": "markdown",
   "source": [
    "## Depth First Search\n",
    "\n",
    "\n",
    "The depth first graph search algorithm has been implemented for you in the dfs function below.  \n",
    "Make sure you run the code cell to define the function.\n",
    "\n"
   ],
   "metadata": {}
  },
  {
   "id": "e0564862",
   "cell_type": "code",
   "source": [
    "def dfs(problem):\n",
    "    \"\"\"\n",
    "    Depth first graph search algorithm - implemented for you\n",
    "    :param problem (a Problem object) representing the quest\n",
    "            see Problem class definition in spartanquest.ipynb)\n",
    "    :return: list of actions representing the solution to the quest\n",
    "                or None if there is no solution\n",
    "    \"\"\"\n",
    "    closed = set()  # keep track of our explored states\n",
    "    fringe = Stack() # for dfs, the fringe is a stack\n",
    "    state = problem.start_state()\n",
    "    root = Node(state, None, None)\n",
    "    fringe.push(root)\n",
    "    while not fringe.is_empty():\n",
    "        node = fringe.pop()\n",
    "        if problem.is_goal(node.state):\n",
    "            return node.solution()  # we found a solution\n",
    "        if node.state not in closed:  # we are implementing graph search\n",
    "            closed.add(node.state)\n",
    "            for child_state, action, action_cost in problem.expand(node.state):\n",
    "                child_cost = action_cost + node.cumulative_cost\n",
    "                child_node = Node(child_state, node, action, child_cost)\n",
    "                fringe.push(child_node)\n",
    "    return None  # Failure -  no solution was found"
   ],
   "metadata": {
    "trusted": true
   },
   "outputs": [],
   "execution_count": null
  },
  {
   "id": "916d2fd9",
   "cell_type": "markdown",
   "source": [
    "Now let's see how how the depth first graph search algorithm solves the quest defined in [SJSU.txt](./SJSU.txt) by running the code cell below.  \n",
    "Note that in the quest text file, S represents Sammy's start position, M represents a medal and W indicates the presence of a wall. \n"
   ],
   "metadata": {}
  },
  {
   "id": "3a409474",
   "cell_type": "code",
   "source": [
    "gospartans(\"SJSU.txt\", \"dfs\")"
   ],
   "metadata": {
    "trusted": true
   },
   "outputs": [],
   "execution_count": null
  },
  {
   "id": "3737cef2",
   "cell_type": "markdown",
   "source": [
    "As you can see in the visualization above, this is not only inefficient but it is also exasperating! \n",
    "Your task now is to help Sammy the Spartan find a more efficient solution by implementing the two search algorithms below."
   ],
   "metadata": {}
  },
  {
   "id": "b3815959",
   "cell_type": "markdown",
   "source": [
    "## Breadth First Search\n",
    "Implement the breadth first graph search algorithm by filling in your code in the function bfs below.  \n",
    "Use the Node class and one of the data structures defined in the [data_structures](./data_structures.ipynb) notebook to implement the fringe.    \n",
    "Make sure you run the code cell after you fill in or modify your code."
   ],
   "metadata": {}
  },
  {
   "id": "1d5fcdaa",
   "cell_type": "code",
   "source": [
    "def bfs(problem):\n",
    "    \"\"\"\n",
    "    Breadth first graph search algorithm\n",
    "    :param problem (a Problem object) representing the quest\n",
    "            see Problem class definition in spartanquest.ipynb)\n",
    "    :return: list of actions representing the solution to the quest\n",
    "            or None if there is no solution\n",
    "    \"\"\"\n",
    "    # Enter your  code here and remove the pass statement below\n",
    "    pass\n"
   ],
   "metadata": {
    "trusted": true
   },
   "outputs": [],
   "execution_count": null
  },
  {
   "id": "29d7e832",
   "cell_type": "markdown",
   "source": [
    "Now let's see how how the breadth first graph search algorithm solves the quest defined in SJSU.txt by running the code cell below:"
   ],
   "metadata": {}
  },
  {
   "id": "8fc9147c",
   "cell_type": "code",
   "source": [
    "gospartans(\"SJSU.txt\", \"bfs\")"
   ],
   "metadata": {
    "trusted": true
   },
   "outputs": [],
   "execution_count": null
  },
  {
   "id": "f1093dbf",
   "cell_type": "markdown",
   "source": [
    "For your convenience, here are the expected results for bfs on the quest described in sjsu.txt:  \n",
    "Path length: 46  \n",
    "Carrots consumed: 484  \n",
    "Number of nodes expanded: 502 <-- 479 is ok too  \n",
    "Processing time: 0.0027(sec) <-- this may be different for you  "
   ],
   "metadata": {}
  },
  {
   "id": "4993188c",
   "cell_type": "markdown",
   "source": [
    "## Uniform Cost Search\n",
    "Implement the uniform cost graph search algorithm by filling in your code in the function ucs below.  \n",
    "Use the Node class and one of the data structures defined in the [data_structures](./data_structures.ipynb) notebook.  \n",
    "Make sure you run the code cell after you fill in or modify your code."
   ],
   "metadata": {}
  },
  {
   "id": "ca70a762",
   "cell_type": "code",
   "source": [
    "def ucs(problem):\n",
    "    \"\"\"\n",
    "    Uniform cost first graph search algorithm\n",
    "    :param\n",
    "    problem (a Problem object) representing the quest\n",
    "            see Problem class definition in spartanquest.ipynby)\n",
    "    :return: list of actions representing the solution to the quest\n",
    "    \"\"\"\n",
    "    # Enter your code here and remove the pass statement below\n",
    "    pass"
   ],
   "metadata": {
    "trusted": true
   },
   "outputs": [],
   "execution_count": null
  },
  {
   "id": "4fbb4fec",
   "cell_type": "markdown",
   "source": [
    "Now let's see how how the uniform cost graph search algorithm solves the quest defined in SJSU.txt by running the code cell below:"
   ],
   "metadata": {}
  },
  {
   "id": "d75bf6bf",
   "cell_type": "code",
   "source": [
    "gospartans(\"SJSU.txt\", \"ucs\")"
   ],
   "metadata": {
    "trusted": true
   },
   "outputs": [],
   "execution_count": null
  },
  {
   "id": "e7560b87",
   "cell_type": "markdown",
   "source": [
    "For your convenience, here are the expected results for ucs on the quest described in sjsu.txt:  \n",
    "Path length: 57  \n",
    "Carrots consumed: 468  \n",
    "Number of nodes expanded: 576  \n",
    "Processing time: 0.0042(sec) <-- this may be different for you  "
   ],
   "metadata": {}
  },
  {
   "id": "35ecda9e",
   "cell_type": "markdown",
   "source": [
    "## Compare and Contrast\n",
    "In addition to [SJSU.txt](./SJSU.txt), several text files that represent different quests have been provided for you:  [questA.txt](./questA.txt),   [questB.txt](./questB.txt),  [questC.txt](./questC.txt),  [questD.txt](./questD.txt) and  [noway.txt](./noway.txt).\n",
    "Use the code cells below to test your implementations of bfs and ucs on the other quests provided: questA.txt through questD.txt, noway.txt."
   ],
   "metadata": {}
  },
  {
   "id": "d33db2cb-cc8c-489b-9ee1-2b29b30cc159",
   "cell_type": "code",
   "source": [],
   "metadata": {
    "trusted": true
   },
   "outputs": [],
   "execution_count": null
  },
  {
   "id": "bff2af35",
   "cell_type": "code",
   "source": [],
   "metadata": {
    "trusted": true
   },
   "outputs": [],
   "execution_count": null
  },
  {
   "id": "ff6bd115",
   "cell_type": "code",
   "source": [],
   "metadata": {
    "trusted": true
   },
   "outputs": [],
   "execution_count": null
  },
  {
   "id": "b7144486-41b0-478c-bc41-16ec0af83220",
   "cell_type": "code",
   "source": [],
   "metadata": {
    "trusted": true
   },
   "outputs": [],
   "execution_count": null
  },
  {
   "id": "54e24e02-076a-4e35-ad05-411310765e2a",
   "cell_type": "code",
   "source": [],
   "metadata": {
    "trusted": true
   },
   "outputs": [],
   "execution_count": null
  },
  {
   "id": "71877898-1ffb-4a3b-a013-cbd09f93e6df",
   "cell_type": "markdown",
   "source": [
    "What conclusions can you draw?  Modify this text cell to type in your answers below.   \n",
    "Which algorithm ALWAYS returns the shortest path?  \n",
    "__Your answer:__  \n",
    "Which algorithm ALWAYS returns the cheapest path (in terms of carrots consumed)?  \n",
    "__Your answer:__    \n"
   ],
   "metadata": {}
  }
 ]
}
